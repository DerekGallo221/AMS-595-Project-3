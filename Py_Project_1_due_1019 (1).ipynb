{
  "cells": [
    {
      "cell_type": "markdown",
      "metadata": {
        "id": "xq__bChjD04e"
      },
      "source": [
        "# Python Assignment 1"
      ]
    },
    {
      "cell_type": "markdown",
      "metadata": {
        "id": "y7j2V0UDMYLG"
      },
      "source": [
        "⏱⏱⏱**Due: 10/19/2025 11:59:59 PM** ⏱⏱⏱\n",
        "\n",
        "Submit this notebook file and upload it to your git repo. Include a link to your git repo while submitting this file to Brightspace.\n",
        "\n",
        "You are not allowed to use chatgpt or any LLM in this assignment.\n",
        "Cooperation is allowed and encouraged; however, you must write up and submit your own work. If you cooperate with others, you must list their names here."
      ]
    },
    {
      "cell_type": "markdown",
      "metadata": {
        "id": "SUS30Ew9D04n"
      },
      "source": [
        "Total points: 100 (equivalent to 20 points after conversion)"
      ]
    },
    {
      "cell_type": "markdown",
      "metadata": {
        "id": "b_bgT3b2GYTB"
      },
      "source": [
        "## 0. Data Types, Structures, Indexing, and Slicing"
      ]
    },
    {
      "cell_type": "markdown",
      "metadata": {
        "id": "6yI1Jt57IwV2"
      },
      "source": [
        "Read the lecutre note as well as [this page](https://www.geeksforgeeks.org/mutable-vs-immutable-objects-in-python/) and [this page](https://www.geeksforgeeks.org/difference-between-shallow-and-deep-copy-of-a-class/). Complete the following questions.\n",
        "\n",
        "(5 points) Give some examples (at least 2) of mutable objects in Python.\n",
        "\n",
        "***Answer:***  Mutable objects are objects that can be altered after they are created and include lists, sets, and dictionaries.\n",
        "\n",
        "\n",
        "---\n",
        "\n",
        "\n",
        "\n",
        "(5 points) Give some examples (at least 2) of immutable objects in Python.\n",
        "\n",
        "***Answer:*** Immutable objects are objects that cannot be altered after being created and include tuples and basic datatypes such as string, int, and bool.\n",
        "\n",
        "\n",
        "---\n",
        "\n",
        "\n",
        "\n",
        "(10 points) State the differences between assignment, shallow copy, and deep copy. Any reasonable answer will get full credit.\n",
        "\n",
        "***Answer:*** Assignment directly assigns or changes the value of an object. A shallow copy creates a copy of an object where any changes made to the copy is then reflected in the original. A deep copy creates a copy of an object where any changes to it are not reflected in the original. A shallow copy also stores references to the location of the original values while the deep copy creates and stores copies of said values instead.\n",
        "\n",
        "\n",
        "---\n",
        "\n",
        "\n",
        "\n"
      ]
    },
    {
      "cell_type": "markdown",
      "metadata": {
        "id": "OA8DxcrrGqZD"
      },
      "source": [
        "(10 points) Using string methods find() and rfind(), find the index of the first digit (i.e. 0) and the index of the last digit (5) in the string below. Then, using string slicing, extract the number (i.e. 0.595595) from this string and convert the extracted value to a floating point number. Print out this float to the console."
      ]
    },
    {
      "cell_type": "code",
      "execution_count": 1,
      "metadata": {
        "id": "AUuFXXWqG4D3",
        "colab": {
          "base_uri": "https://localhost:8080/"
        },
        "outputId": "bdeac3d0-de17-4bda-e5e7-f935c38b045b"
      },
      "outputs": [
        {
          "output_type": "stream",
          "name": "stdout",
          "text": [
            "0.595595\n"
          ]
        }
      ],
      "source": [
        "text = \"F-DGFDDSFGFD-CFDSHdstgfdfe: tfsd  aaa bdsf 0.595595 fdsgfdbc\";\n",
        "n = int(text.find('0')) # Find index of first 0\n",
        "m = int(text.rfind('5')) #Find index of last 5\n",
        "print(float(text[n:m+1])) #Extract full number into a floating point form"
      ]
    },
    {
      "cell_type": "markdown",
      "metadata": {
        "id": "cnCljYgpD04p"
      },
      "source": [
        "## 1. Conditional Statements\n",
        "\n",
        "(10 points)\n",
        "Translate the following MATLAB code into Python using `if-elif-else`.\n",
        "```\n",
        "n = input('Enter a number: ');\n",
        "\n",
        "switch n\n",
        "    case -1\n",
        "        disp('negative one')\n",
        "    case 0\n",
        "        disp('zero')\n",
        "    case 1\n",
        "        disp('positive one')\n",
        "    otherwise\n",
        "        disp('other value')\n",
        "end\n",
        "```"
      ]
    },
    {
      "cell_type": "code",
      "execution_count": 2,
      "metadata": {
        "collapsed": true,
        "id": "9d8vl5zjD04q",
        "colab": {
          "base_uri": "https://localhost:8080/"
        },
        "outputId": "f9f24518-6d45-4197-aec0-888845b8c050"
      },
      "outputs": [
        {
          "output_type": "stream",
          "name": "stdout",
          "text": [
            "Enter a number: 0\n",
            "zero\n"
          ]
        }
      ],
      "source": [
        "n = input('Enter a number: ')\n",
        "\n",
        "n = int(n) # Take input number as the value of n\n",
        "if n == -1:\n",
        "    print('negative one')\n",
        "elif n == 0:\n",
        "    print('zero')\n",
        "elif n == 1:\n",
        "    print('positive one')\n",
        "else:\n",
        "    print('other value')"
      ]
    },
    {
      "cell_type": "markdown",
      "metadata": {
        "id": "sW9XiUPpD04s"
      },
      "source": [
        "## 2. While Loops\n",
        "\n",
        "(10 points) Write a Python program that calculates the factorial of a given number (you can assume an positive integer) using a while loop. Display the result to the console."
      ]
    },
    {
      "cell_type": "code",
      "execution_count": 8,
      "metadata": {
        "colab": {
          "base_uri": "https://localhost:8080/"
        },
        "collapsed": true,
        "id": "CRCERx8uD04t",
        "outputId": "d7f62929-a348-469c-e4d5-8c91cf3be78d"
      },
      "outputs": [
        {
          "output_type": "stream",
          "name": "stdout",
          "text": [
            "355687428096000\n",
            "6227020800\n"
          ]
        }
      ],
      "source": [
        "def fractal(n):\n",
        "    i = 1\n",
        "    m = 1 # Initalize variables\n",
        "    while i < n + 1: # Take integers from 1 to target value\n",
        "        m = m * i # Multiply previous fractal by next integer\n",
        "        i += 1 # Increment integer\n",
        "    return m\n",
        "print(fractal(17))\n",
        "print(fractal(13))\n",
        "# test cases\n",
        "# n = 17, Output: 355687428096000\n",
        "# n = 13, Output: 6227020800"
      ]
    },
    {
      "cell_type": "markdown",
      "metadata": {
        "id": "ZQ5SVMq6D04w"
      },
      "source": [
        "## 3. Functions\n",
        "\n",
        "(10 points) Write a function that determines if a number is prime."
      ]
    },
    {
      "cell_type": "code",
      "execution_count": 9,
      "metadata": {
        "colab": {
          "base_uri": "https://localhost:8080/"
        },
        "id": "6rGP5G3_D04x",
        "outputId": "a185795a-9e7a-4a86-fef1-e4f435564f5d"
      },
      "outputs": [
        {
          "output_type": "stream",
          "name": "stdout",
          "text": [
            "True\n",
            "False\n",
            "True\n"
          ]
        }
      ],
      "source": [
        "def is_prime(n):\n",
        "    factors = [] # Initialize list\n",
        "    i = 1 # Initialize variable\n",
        "    while i < n + 1:\n",
        "        p = n / i # Divide n by all numbers from 1 to n\n",
        "        if  p == int(p): # Check if quotient is a integer\n",
        "            factors.append(i) # Add to list of factors\n",
        "        i += 1\n",
        "    if len(factors) == 2: # Check if 1 and n are only factors\n",
        "        return True\n",
        "    else:\n",
        "        return False\n",
        "\n",
        "\n",
        "\n",
        "# test cases\n",
        "print(is_prime(2))      # Output: True\n",
        "print(is_prime(10))     # Output: False\n",
        "print(is_prime(17))     # Output: True"
      ]
    },
    {
      "cell_type": "markdown",
      "metadata": {
        "id": "Z6qg-fpQD04u"
      },
      "source": [
        "## 4. List Comprehension\n",
        "\n",
        "(10 points) Write a Python function called `prime_factors` that takes a relatively small integer as input and returns a list of its distinct prime factors. The function should use list comprehension to generate the list of distinct prime factors. You may use the function is_prime() defined in Q3.\n"
      ]
    },
    {
      "cell_type": "code",
      "execution_count": 16,
      "metadata": {
        "colab": {
          "base_uri": "https://localhost:8080/"
        },
        "collapsed": true,
        "id": "2hSCjYlOD04v",
        "outputId": "bd4bbeab-399c-44eb-f15f-5b97d1de24e1"
      },
      "outputs": [
        {
          "output_type": "stream",
          "name": "stdout",
          "text": [
            "[2, 3, 5]\n",
            "[2, 7]\n",
            "[2, 3, 11]\n",
            "[2, 29]\n",
          ]
        }
      ],
      "source": [
        "def prime_factors(n):\n",
        "    factors = []\n",
        "    p_factors = [] #Initialize lists\n",
        "    i = 1\n",
        "    r = 0 #Initialize variables\n",
        "    while i < n + 1:\n",
        "        p = n / i\n",
        "        if  p == int(p):\n",
        "            factors.append(i) # Create list of factors\n",
        "        i += 1\n",
        "    p_factors = [factors[r] for r in range(0,len(factors)) if is_prime(factors[r]) == True] # Create new list of prime factors\n",
        "    return p_factors # Return list of prime factors\n",
        "# test cases\n",
        "print(prime_factors(30))  # Output: [2, 3, 5]\n",
        "print(prime_factors(56))  # Output: [2, 7]\n",
        "print(prime_factors(198))  # Output: [2, 3, 11]\n",
        "print(prime_factors(464))  # Output: [2, 29]"
      ]
    },
    {
      "cell_type": "markdown",
      "metadata": {
        "id": "dw4kZZCiD040"
      },
      "source": [
        "## 5. Recursive Functions\n",
        "(25 points) Write a function that uses recursion to generate the $n$th row of the Pascal's triangle.\n",
        "```\n",
        "              1\n",
        "           1     1\n",
        "        1     2     1\n",
        "      1    3     3     1\n",
        "   1    4     6     4    1\n",
        "1     5    10    10    5    1\n",
        "...\n",
        "...\n",
        "...\n",
        "```"
      ]
    },
    {
      "cell_type": "code",
      "execution_count": 11,
      "metadata": {
        "colab": {
          "base_uri": "https://localhost:8080/"
        },
        "id": "V8QFB_gKD040",
        "outputId": "44c3c88f-4153-4ed6-ece2-bd16776f3298"
      },
      "outputs": [
        {
          "output_type": "stream",
          "name": "stdout",
          "text": [
            "[1, 3, 3, 1]\n",
            "[1, 4, 6, 4, 1]\n",
            "[1, 5, 10, 10, 5, 1]\n"
          ]
        }
      ],
      "source": [
        "def pascal(n):\n",
        "    pas_tri = [] # Initialize list\n",
        "    j = 0 # Initialize variable\n",
        "    if n == 1: # Base Case\n",
        "        pas_tri = [1]\n",
        "        return pas_tri\n",
        "    else:\n",
        "        pas_tri = pascal(n-1)\n",
        "        if n == 2: # Case for row 2\n",
        "            pas_tri.append(1)\n",
        "        elif n == 3: #Case for row 3\n",
        "            m = pas_tri[0] + pas_tri[1]\n",
        "            pas_tri.insert(1, m)\n",
        "        else:\n",
        "            m = pas_tri[0] + pas_tri[1] # Create 1st non-1 value\n",
        "            for r in range(0,n-2):# Go through each value of the n - 1 row\n",
        "                if r < n - 3: # Up to last non-1 value of n - 1 row\n",
        "                    s = pas_tri[r + 2]\n",
        "                    pas_tri.insert(r + 1,m) # Insert new value\n",
        "                    j = pas_tri.pop(r + 2) # Remove unneeded antry and store value\n",
        "                    m = s + j # Create new value from sum of adjacent terms in n - 1 row\n",
        "                elif r == n - 3: # Add one to last non - 1 value of n - 1 row\n",
        "                    pas_tri.insert(r + 1, j + 1)\n",
        "    return pas_tri\n",
        "# test cases\n",
        "print(pascal(4))  # output [1, 3, 3, 1]\n",
        "print(pascal(5))  # output [1, 4, 6, 4, 1]\n",
        "print(pascal(6))  # output [1, 5, 10, 10, 5, 1]"
      ]
    },
    {
      "cell_type": "markdown",
      "metadata": {
        "id": "eZytgm0qD041"
      },
      "source": [
        "Rewrite the above function using only `while` or `for` loops instead of recursion."
      ]
    },
    {
      "cell_type": "code",
      "execution_count": 12,
      "metadata": {
        "colab": {
          "base_uri": "https://localhost:8080/"
        },
        "collapsed": true,
        "id": "UZ8f-akaD041",
        "outputId": "7bf0dcd2-c049-447c-c934-c32f709acfcf"
      },
      "outputs": [
        {
          "output_type": "stream",
          "name": "stdout",
          "text": [
            "[1, 3, 3, 1]\n",
            "[1, 4, 6, 4, 1]\n",
            "[1, 5, 10, 10, 5, 1]\n"
          ]
        }
      ],
      "source": [
        "def pascal_by_loops(n):\n",
        "    p_triangle = [] # Initialize the lists\n",
        "    i = 0\n",
        "    r = 1\n",
        "    j = 0\n",
        "    s = 0 # Initialize the variables\n",
        "    while i < n: # Build up to the nth row of Pascal's Triangle\n",
        "        if i == 0: # Base case\n",
        "            p_triangle.append(1)\n",
        "            i = i + 1\n",
        "        elif i == 1: # Needed for n = 2\n",
        "            p_triangle.append(1)\n",
        "            i = i + 1\n",
        "        elif i == 2: # Create center value from sum of values in n = 2 case\n",
        "            m = p_triangle[0] + p_triangle[1]\n",
        "            p_triangle.insert(1, m)\n",
        "            i += 1\n",
        "        else:\n",
        "            m = p_triangle[0] + p_triangle[1] # Create 1st non-1 value\n",
        "            for r in range(0,i-1):# Go through each value of the n - 1 row\n",
        "                if r < i - 2: # Up to last non-1 value of n - 1 row\n",
        "                    s = p_triangle[r + 2]\n",
        "                    p_triangle.insert(r + 1,m) # Insert new value\n",
        "                    j = p_triangle.pop(r + 2) # Remove unneeded antry and store value\n",
        "                    m = s + j # Create new value from sum of adjacent terms in n - 1 row\n",
        "                elif r == i - 2: # Add one to last non - 1 value of n - 1 row\n",
        "                    p_triangle.insert(r + 1, j + 1)\n",
        "            i += 1\n",
        "    return p_triangle\n",
        "\n",
        "# test case\n",
        "print(pascal_by_loops(4)) # output [1, 3, 3, 1]\n",
        "print(pascal_by_loops(5)) # output [1, 4, 6, 4, 1]\n",
        "print(pascal_by_loops(6)) # output [1, 5, 10, 10, 5, 1]"
      ]
    },
    {
      "cell_type": "markdown",
      "metadata": {
        "id": "HvHD6QHzVo9I"
      },
      "source": [
        "\n",
        "\n",
        "---\n",
        "\n",
        "\n",
        "（5 points) good coding practice and properly submitting your work to GitHub."
      ]
    }
  ],
  "metadata": {
    "anaconda-cloud": {},
    "colab": {
      "provenance": []
    },
    "kernelspec": {
      "display_name": "Python 3",
      "language": "python",
      "name": "python3"
    },
    "language_info": {
      "codemirror_mode": {
        "name": "ipython",
        "version": 3
      },
      "file_extension": ".py",
      "mimetype": "text/x-python",
      "name": "python",
      "nbconvert_exporter": "python",
      "pygments_lexer": "ipython3",
      "version": "3.7.4"
    }
  },
  "nbformat": 4,
  "nbformat_minor": 0
}
